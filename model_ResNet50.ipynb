{
  "nbformat": 4,
  "nbformat_minor": 0,
  "metadata": {
    "colab": {
      "name": "model_ResNet50.ipynb",
      "provenance": [],
      "mount_file_id": "1BUuY4glvJeZ3C3DEFKY7mIAK3mct0nwy",
      "authorship_tag": "ABX9TyNw/VxsWWvGOuoHxn6F85a2",
      "include_colab_link": true
    },
    "kernelspec": {
      "name": "python3",
      "display_name": "Python 3"
    },
    "language_info": {
      "name": "python"
    },
    "accelerator": "GPU"
  },
  "cells": [
    {
      "cell_type": "markdown",
      "metadata": {
        "id": "view-in-github",
        "colab_type": "text"
      },
      "source": [
        "<a href=\"https://colab.research.google.com/github/HangPhan18/skin_cancer/blob/main/model_ResNet50.ipynb\" target=\"_parent\"><img src=\"https://colab.research.google.com/assets/colab-badge.svg\" alt=\"Open In Colab\"/></a>"
      ]
    },
    {
      "cell_type": "code",
      "execution_count": 1,
      "metadata": {
        "id": "I7tbi0YKpOq6"
      },
      "outputs": [],
      "source": [
        "from numpy.random import seed\n",
        "import matplotlib.pyplot as plt\n",
        "import numpy as np\n",
        "import pandas  as pd\n",
        "import os\n",
        "from glob import glob\n",
        "import seaborn as sns\n",
        "from PIL import Image\n",
        "from sklearn.preprocessing import label_binarize\n",
        "from sklearn.metrics import confusion_matrix\n",
        "from sklearn.model_selection import GridSearchCV\n",
        "from sklearn.model_selection import train_test_split\n",
        "from sklearn.metrics import f1_score\n",
        "\n",
        "import itertools\n",
        "\n",
        "import keras\n",
        "from keras.applications.resnet import ResNet50\n",
        "from keras.applications.xception import Xception\n",
        "from keras.models import Sequential, Model\n",
        "from keras.layers import Activation, Dense, Dropout, Flatten, BatchNormalization, MaxPool2D, Conv2D, GlobalAveragePooling2D, AveragePooling2D\n",
        "from keras import backend as K\n",
        "from keras.wrappers.scikit_learn import KerasClassifier\n",
        "from keras.utils.np_utils import to_categorical\n",
        "from keras import regularizers\n",
        "from tensorflow.keras.optimizers import Adam, SGD\n",
        "from keras.preprocessing.image import ImageDataGenerator\n",
        "from keras.callbacks import ReduceLROnPlateau, EarlyStopping"
      ]
    },
    {
      "cell_type": "code",
      "source": [
        "cd /content/drive/MyDrive/LuanVan/dataHAM"
      ],
      "metadata": {
        "colab": {
          "base_uri": "https://localhost:8080/"
        },
        "id": "-y7O-JBD5rsu",
        "outputId": "22d8c26d-903a-4bcd-fc5a-e99c3caea710"
      },
      "execution_count": 2,
      "outputs": [
        {
          "output_type": "stream",
          "name": "stdout",
          "text": [
            "/content/drive/MyDrive/LuanVan/dataHAM\n"
          ]
        }
      ]
    },
    {
      "cell_type": "code",
      "source": [
        "skin_df = pd.read_csv('HAM10000_metadata.csv')"
      ],
      "metadata": {
        "id": "PgnAiaM-sVq8"
      },
      "execution_count": 3,
      "outputs": []
    },
    {
      "cell_type": "code",
      "source": [
        "lesion_type_dict = {\n",
        "    'nv': 'Melanocytic nevae',\n",
        "    'mel': 'Melanoma',\n",
        "    'bkl': 'Benign keratosis-like lesions ',\n",
        "    'bcc': 'Basal cell carcinoma',\n",
        "    'akiec': 'Actinic keratoses',\n",
        "    'vasc': 'Vascular lesions',\n",
        "    'df': 'Dermatofibroma'\n",
        "}"
      ],
      "metadata": {
        "id": "ggN9c9zjlf_u"
      },
      "execution_count": 4,
      "outputs": []
    },
    {
      "cell_type": "code",
      "source": [
        "img_path_dict = {os.path.splitext(os.path.basename(x))[0]: x\n",
        "              for x in glob(os.path.join('/content/drive/MyDrive/LuanVan/dataHAM/', '*', '*.jpg'))}"
      ],
      "metadata": {
        "id": "labr5QXylgpe"
      },
      "execution_count": 5,
      "outputs": []
    },
    {
      "cell_type": "code",
      "source": [
        "skin_df['path'] = skin_df['image_id'].map(img_path_dict.get)"
      ],
      "metadata": {
        "id": "nbmnppp3ljH3"
      },
      "execution_count": 6,
      "outputs": []
    },
    {
      "cell_type": "code",
      "source": [
        "skin_df['cell_type'] = skin_df['dx'].map(lesion_type_dict.get)"
      ],
      "metadata": {
        "id": "FQuC6vN-lmMv"
      },
      "execution_count": 7,
      "outputs": []
    },
    {
      "cell_type": "code",
      "source": [
        "skin_df['cell_type_idx'] = pd.Categorical(skin_df['cell_type']).codes"
      ],
      "metadata": {
        "id": "lFKiOOTHlrMC"
      },
      "execution_count": 8,
      "outputs": []
    },
    {
      "cell_type": "code",
      "source": [
        "skin_df['image'] = skin_df['path'].map(lambda x: np.asarray(Image.open(x).resize((100, 75))))"
      ],
      "metadata": {
        "id": "R8Rhc9xHlsLU"
      },
      "execution_count": 9,
      "outputs": []
    },
    {
      "cell_type": "code",
      "source": [
        "features= skin_df.drop(columns=['cell_type_idx'],axis=1)\n",
        "target = skin_df['cell_type_idx']"
      ],
      "metadata": {
        "id": "qg8dNR7hlvhy"
      },
      "execution_count": 10,
      "outputs": []
    },
    {
      "cell_type": "code",
      "source": [
        "x_train_o, x_test_o, y_train_o, y_test_o = train_test_split(features, target, test_size=0.2, random_state=123)"
      ],
      "metadata": {
        "id": "Z1vU2GMGlwTJ"
      },
      "execution_count": 11,
      "outputs": []
    },
    {
      "cell_type": "code",
      "source": [
        "x_train = np.asarray(x_train_o['image'].tolist())\n",
        "x_test = np.asarray(x_test_o['image'].tolist())"
      ],
      "metadata": {
        "id": "3Cy20vlDlyi0"
      },
      "execution_count": 12,
      "outputs": []
    },
    {
      "cell_type": "code",
      "source": [
        "x_train_mean = np.mean(x_train)\n",
        "x_train_std = np.std(x_train)"
      ],
      "metadata": {
        "id": "L_7nQbaal0eo"
      },
      "execution_count": 13,
      "outputs": []
    },
    {
      "cell_type": "code",
      "source": [
        "x_train = (x_train - x_train_mean)/x_train_std\n",
        "x_test = (x_test - x_train_mean)/x_train_std"
      ],
      "metadata": {
        "id": "Dyxa_4KNl2UW"
      },
      "execution_count": 14,
      "outputs": []
    },
    {
      "cell_type": "code",
      "source": [
        "y_train = to_categorical(y_train_o, num_classes = 7)\n",
        "y_test = to_categorical(y_test_o, num_classes=7)"
      ],
      "metadata": {
        "id": "8_HYAI1Il4Q9"
      },
      "execution_count": 15,
      "outputs": []
    },
    {
      "cell_type": "code",
      "source": [
        "x_train, x_validate, y_train, y_validate = train_test_split(x_train, y_train, test_size = 0.1, random_state=123)"
      ],
      "metadata": {
        "id": "TQd808TSl6_R"
      },
      "execution_count": 16,
      "outputs": []
    },
    {
      "cell_type": "code",
      "source": [
        "x_train = x_train.reshape(x_train.shape[0], *(75, 100, 3))\n",
        "x_test = x_test.reshape(x_test.shape[0], *(75, 100, 3))\n",
        "x_validate = x_validate.reshape(x_validate.shape[0], *(75, 100, 3))"
      ],
      "metadata": {
        "id": "5Q1IH26sl-GL"
      },
      "execution_count": 17,
      "outputs": []
    },
    {
      "cell_type": "code",
      "source": [
        "from keras.callbacks import ReduceLROnPlateau, EarlyStopping\n",
        "from keras.preprocessing.image import ImageDataGenerator\n",
        "from tensorflow.keras.optimizers import Adam, SGD"
      ],
      "metadata": {
        "id": "EsnJVeu-mAdM"
      },
      "execution_count": 18,
      "outputs": []
    },
    {
      "cell_type": "code",
      "source": [
        "optimizer = Adam(learning_rate= 0.001, beta_1=0.9, beta_2=0.999, epsilon=None, amsgrad=False, decay = 0.0)\n",
        "\n",
        "epochs = 60\n",
        "batch_size = 24"
      ],
      "metadata": {
        "id": "-_rSHerzmBDw"
      },
      "execution_count": 19,
      "outputs": []
    },
    {
      "cell_type": "code",
      "source": [
        "input_shape = (75, 100, 3)\n",
        "num_classes = 7"
      ],
      "metadata": {
        "id": "IjqvazK7t8uk"
      },
      "execution_count": 20,
      "outputs": []
    },
    {
      "cell_type": "code",
      "source": [
        "learning_rate_reduction = ReduceLROnPlateau(monitor = 'val_accuracy', patience = 5, verbose = 0, factor = 0.5, min_lr= 0.00001)\n",
        "early_stopping_monitor = EarlyStopping(patience = 20, monitor = 'val_accuracy')\n"
      ],
      "metadata": {
        "id": "OzWwU2LgmDC6"
      },
      "execution_count": 21,
      "outputs": []
    },
    {
      "cell_type": "code",
      "source": [
        "dataaugment = ImageDataGenerator(\n",
        "    featurewise_center = False, #Đặt trung bình đầu vào bằng 0 trên tập dữ liệu\n",
        "    samplewise_center = False, #Đặt giá trung bình của mỗi mẫu bằng 0\n",
        "    featurewise_std_normalization = False, #Chia đầu vào \n",
        "    samplewise_std_normalization=False,\n",
        "    zca_whitening = False,\n",
        "    rotation_range = 90,\n",
        "    zoom_range = 0.1,\n",
        "    width_shift_range = 0.1,\n",
        "    height_shift_range = 0.1,\n",
        "    horizontal_flip = True,\n",
        "    vertical_flip = True,\n",
        "    shear_range = 10\n",
        ")"
      ],
      "metadata": {
        "id": "YOiHmqMDmEtw"
      },
      "execution_count": 23,
      "outputs": []
    },
    {
      "cell_type": "code",
      "source": [
        "base_model = ResNet50(include_top = False, input_shape = (75, 100, 3), pooling ='avg', weights ='imagenet')\n",
        "\n",
        "ResNet50model = Sequential()\n",
        "ResNet50model.add(base_model)\n",
        "ResNet50model.add(Dropout(0.2))\n",
        "ResNet50model.add(Dense(128, activation ='relu'))\n",
        "ResNet50model.add(Dropout(0.2))\n",
        "ResNet50model.add(Dense(num_classes, activation='softmax'))\n",
        "\n",
        "\n",
        "for layer in base_model.layers:\n",
        "  layer.trainable = True\n",
        "\n",
        "ResNet50model.compile(optimizer = optimizer , loss = \"categorical_crossentropy\", metrics=[\"accuracy\"])\n",
        "history_resnet50 = ResNet50model.fit(dataaugment.flow(x_train,y_train, batch_size=batch_size),\n",
        "                        epochs = 60, validation_data = (x_validate,y_validate),\n",
        "                        verbose = 2, steps_per_epoch=x_train.shape[0] // batch_size, \n",
        "                        callbacks=[learning_rate_reduction,early_stopping_monitor])\n",
        "\n",
        "ResNet50_loss, ResNet50_accuracy = ResNet50model.evaluate(x_test, y_test, verbose=0)\n",
        "predictions = ResNet50model.predict(x_test)\n",
        "ResNet50_loss_v, ResNet50_accuracy_v = ResNet50model.evaluate(x_validate, y_validate, verbose=0)\n",
        "ResNet50_loss_t, ResNet50_accuracy_t = ResNet50model.evaluate(x_train, y_train, verbose=0)\n",
        "#ResNet50y_pred,ResNet50accuracy_t,ResNet50accuracy_v,ResNet50accuracy = history(ResNet50model)\n",
        "    \n",
        "print(\"ResNet50 Training: accuracy = %f\" % (ResNet50_accuracy_t))\n",
        "print(\"ResNet50 Validation: accuracy = %f\" % (ResNet50_accuracy_v))\n",
        "print(\"ResNet50 Test: accuracy = %f\" % (ResNet50_accuracy))"
      ],
      "metadata": {
        "colab": {
          "base_uri": "https://localhost:8080/"
        },
        "id": "FdMClQzAmIGU",
        "outputId": "6b83b3a4-04f5-47e8-81a8-48996fa4f5d6"
      },
      "execution_count": 24,
      "outputs": [
        {
          "output_type": "stream",
          "name": "stdout",
          "text": [
            "Downloading data from https://storage.googleapis.com/tensorflow/keras-applications/resnet/resnet50_weights_tf_dim_ordering_tf_kernels_notop.h5\n",
            "94773248/94765736 [==============================] - 3s 0us/step\n",
            "94781440/94765736 [==============================] - 3s 0us/step\n",
            "Epoch 1/60\n",
            "300/300 - 75s - loss: 0.9791 - accuracy: 0.6802 - val_loss: 1.1755 - val_accuracy: 0.6621 - lr: 0.0010 - 75s/epoch - 250ms/step\n",
            "Epoch 2/60\n",
            "300/300 - 54s - loss: 0.8172 - accuracy: 0.7079 - val_loss: 1.1903 - val_accuracy: 0.6334 - lr: 0.0010 - 54s/epoch - 179ms/step\n",
            "Epoch 3/60\n",
            "300/300 - 54s - loss: 0.8109 - accuracy: 0.7157 - val_loss: 0.8337 - val_accuracy: 0.7307 - lr: 0.0010 - 54s/epoch - 178ms/step\n",
            "Epoch 4/60\n",
            "300/300 - 53s - loss: 0.7520 - accuracy: 0.7299 - val_loss: 0.7162 - val_accuracy: 0.7718 - lr: 0.0010 - 53s/epoch - 178ms/step\n",
            "Epoch 5/60\n",
            "300/300 - 53s - loss: 0.7269 - accuracy: 0.7304 - val_loss: 1.5702 - val_accuracy: 0.4963 - lr: 0.0010 - 53s/epoch - 178ms/step\n",
            "Epoch 6/60\n",
            "300/300 - 53s - loss: 0.6952 - accuracy: 0.7494 - val_loss: 0.7120 - val_accuracy: 0.7643 - lr: 0.0010 - 53s/epoch - 178ms/step\n",
            "Epoch 7/60\n",
            "300/300 - 53s - loss: 0.6833 - accuracy: 0.7473 - val_loss: 0.7548 - val_accuracy: 0.7082 - lr: 0.0010 - 53s/epoch - 178ms/step\n",
            "Epoch 8/60\n",
            "300/300 - 54s - loss: 0.6673 - accuracy: 0.7538 - val_loss: 4.2882 - val_accuracy: 0.7494 - lr: 0.0010 - 54s/epoch - 179ms/step\n",
            "Epoch 9/60\n",
            "300/300 - 55s - loss: 0.6774 - accuracy: 0.7508 - val_loss: 0.7635 - val_accuracy: 0.7207 - lr: 0.0010 - 55s/epoch - 183ms/step\n",
            "Epoch 10/60\n",
            "300/300 - 54s - loss: 0.6194 - accuracy: 0.7726 - val_loss: 0.6387 - val_accuracy: 0.7743 - lr: 5.0000e-04 - 54s/epoch - 178ms/step\n",
            "Epoch 11/60\n",
            "300/300 - 54s - loss: 0.5957 - accuracy: 0.7779 - val_loss: 0.6952 - val_accuracy: 0.7294 - lr: 5.0000e-04 - 54s/epoch - 178ms/step\n",
            "Epoch 12/60\n",
            "300/300 - 54s - loss: 0.6002 - accuracy: 0.7800 - val_loss: 0.6596 - val_accuracy: 0.7756 - lr: 5.0000e-04 - 54s/epoch - 178ms/step\n",
            "Epoch 13/60\n",
            "300/300 - 55s - loss: 0.5815 - accuracy: 0.7847 - val_loss: 0.5486 - val_accuracy: 0.8017 - lr: 5.0000e-04 - 55s/epoch - 182ms/step\n",
            "Epoch 14/60\n",
            "300/300 - 55s - loss: 0.5706 - accuracy: 0.7864 - val_loss: 0.6374 - val_accuracy: 0.7843 - lr: 5.0000e-04 - 55s/epoch - 182ms/step\n",
            "Epoch 15/60\n",
            "300/300 - 54s - loss: 0.5749 - accuracy: 0.7825 - val_loss: 0.6274 - val_accuracy: 0.7569 - lr: 5.0000e-04 - 54s/epoch - 179ms/step\n",
            "Epoch 16/60\n",
            "300/300 - 55s - loss: 0.5662 - accuracy: 0.7881 - val_loss: 0.6669 - val_accuracy: 0.7494 - lr: 5.0000e-04 - 55s/epoch - 182ms/step\n",
            "Epoch 17/60\n",
            "300/300 - 54s - loss: 0.5536 - accuracy: 0.7959 - val_loss: 0.5710 - val_accuracy: 0.7930 - lr: 5.0000e-04 - 54s/epoch - 179ms/step\n",
            "Epoch 18/60\n",
            "300/300 - 53s - loss: 0.5785 - accuracy: 0.7849 - val_loss: 0.5677 - val_accuracy: 0.7855 - lr: 5.0000e-04 - 53s/epoch - 178ms/step\n",
            "Epoch 19/60\n",
            "300/300 - 53s - loss: 0.5227 - accuracy: 0.8064 - val_loss: 0.5677 - val_accuracy: 0.7930 - lr: 2.5000e-04 - 53s/epoch - 178ms/step\n",
            "Epoch 20/60\n",
            "300/300 - 55s - loss: 0.5078 - accuracy: 0.8107 - val_loss: 0.6524 - val_accuracy: 0.7606 - lr: 2.5000e-04 - 55s/epoch - 182ms/step\n",
            "Epoch 21/60\n",
            "300/300 - 54s - loss: 0.4818 - accuracy: 0.8180 - val_loss: 0.5626 - val_accuracy: 0.8042 - lr: 2.5000e-04 - 54s/epoch - 179ms/step\n",
            "Epoch 22/60\n",
            "300/300 - 54s - loss: 0.4958 - accuracy: 0.8131 - val_loss: 0.5435 - val_accuracy: 0.7993 - lr: 2.5000e-04 - 54s/epoch - 179ms/step\n",
            "Epoch 23/60\n",
            "300/300 - 54s - loss: 0.4752 - accuracy: 0.8215 - val_loss: 0.5404 - val_accuracy: 0.8117 - lr: 2.5000e-04 - 54s/epoch - 179ms/step\n",
            "Epoch 24/60\n",
            "300/300 - 54s - loss: 0.4735 - accuracy: 0.8223 - val_loss: 0.5557 - val_accuracy: 0.8030 - lr: 2.5000e-04 - 54s/epoch - 179ms/step\n",
            "Epoch 25/60\n",
            "300/300 - 54s - loss: 0.4706 - accuracy: 0.8277 - val_loss: 0.5139 - val_accuracy: 0.8105 - lr: 2.5000e-04 - 54s/epoch - 180ms/step\n",
            "Epoch 26/60\n",
            "300/300 - 55s - loss: 0.4637 - accuracy: 0.8242 - val_loss: 0.5420 - val_accuracy: 0.8242 - lr: 2.5000e-04 - 55s/epoch - 182ms/step\n",
            "Epoch 27/60\n",
            "300/300 - 54s - loss: 0.4533 - accuracy: 0.8295 - val_loss: 0.6014 - val_accuracy: 0.7868 - lr: 2.5000e-04 - 54s/epoch - 179ms/step\n",
            "Epoch 28/60\n",
            "300/300 - 54s - loss: 0.4556 - accuracy: 0.8309 - val_loss: 0.5003 - val_accuracy: 0.8242 - lr: 2.5000e-04 - 54s/epoch - 179ms/step\n",
            "Epoch 29/60\n",
            "300/300 - 55s - loss: 0.4407 - accuracy: 0.8350 - val_loss: 0.5803 - val_accuracy: 0.8030 - lr: 2.5000e-04 - 55s/epoch - 183ms/step\n",
            "Epoch 30/60\n",
            "300/300 - 54s - loss: 0.4383 - accuracy: 0.8305 - val_loss: 0.5544 - val_accuracy: 0.8067 - lr: 2.5000e-04 - 54s/epoch - 179ms/step\n",
            "Epoch 31/60\n",
            "300/300 - 54s - loss: 0.4354 - accuracy: 0.8340 - val_loss: 0.5349 - val_accuracy: 0.8067 - lr: 2.5000e-04 - 54s/epoch - 179ms/step\n",
            "Epoch 32/60\n",
            "300/300 - 54s - loss: 0.3989 - accuracy: 0.8479 - val_loss: 0.5309 - val_accuracy: 0.8279 - lr: 1.2500e-04 - 54s/epoch - 179ms/step\n",
            "Epoch 33/60\n",
            "300/300 - 53s - loss: 0.3826 - accuracy: 0.8549 - val_loss: 0.5256 - val_accuracy: 0.8229 - lr: 1.2500e-04 - 53s/epoch - 178ms/step\n",
            "Epoch 34/60\n",
            "300/300 - 55s - loss: 0.3815 - accuracy: 0.8567 - val_loss: 0.5529 - val_accuracy: 0.8279 - lr: 1.2500e-04 - 55s/epoch - 182ms/step\n",
            "Epoch 35/60\n",
            "300/300 - 55s - loss: 0.3735 - accuracy: 0.8568 - val_loss: 0.4987 - val_accuracy: 0.8267 - lr: 1.2500e-04 - 55s/epoch - 182ms/step\n",
            "Epoch 36/60\n",
            "300/300 - 54s - loss: 0.3695 - accuracy: 0.8596 - val_loss: 0.5455 - val_accuracy: 0.8229 - lr: 1.2500e-04 - 54s/epoch - 178ms/step\n",
            "Epoch 37/60\n",
            "300/300 - 53s - loss: 0.3630 - accuracy: 0.8624 - val_loss: 0.5343 - val_accuracy: 0.8354 - lr: 1.2500e-04 - 53s/epoch - 178ms/step\n",
            "Epoch 38/60\n",
            "300/300 - 55s - loss: 0.3600 - accuracy: 0.8599 - val_loss: 0.5738 - val_accuracy: 0.8167 - lr: 1.2500e-04 - 55s/epoch - 183ms/step\n",
            "Epoch 39/60\n",
            "300/300 - 55s - loss: 0.3552 - accuracy: 0.8650 - val_loss: 0.5266 - val_accuracy: 0.8304 - lr: 1.2500e-04 - 55s/epoch - 183ms/step\n",
            "Epoch 40/60\n",
            "300/300 - 54s - loss: 0.3558 - accuracy: 0.8663 - val_loss: 0.5661 - val_accuracy: 0.8267 - lr: 1.2500e-04 - 54s/epoch - 179ms/step\n",
            "Epoch 41/60\n",
            "300/300 - 55s - loss: 0.3523 - accuracy: 0.8646 - val_loss: 0.5540 - val_accuracy: 0.8342 - lr: 1.2500e-04 - 55s/epoch - 182ms/step\n",
            "Epoch 42/60\n",
            "300/300 - 55s - loss: 0.3293 - accuracy: 0.8760 - val_loss: 0.6104 - val_accuracy: 0.8142 - lr: 1.2500e-04 - 55s/epoch - 182ms/step\n",
            "Epoch 43/60\n",
            "300/300 - 54s - loss: 0.3277 - accuracy: 0.8739 - val_loss: 0.6033 - val_accuracy: 0.8279 - lr: 6.2500e-05 - 54s/epoch - 179ms/step\n",
            "Epoch 44/60\n",
            "300/300 - 54s - loss: 0.3027 - accuracy: 0.8825 - val_loss: 0.6134 - val_accuracy: 0.8117 - lr: 6.2500e-05 - 54s/epoch - 179ms/step\n",
            "Epoch 45/60\n",
            "300/300 - 53s - loss: 0.3040 - accuracy: 0.8810 - val_loss: 0.5989 - val_accuracy: 0.8180 - lr: 6.2500e-05 - 53s/epoch - 178ms/step\n",
            "Epoch 46/60\n",
            "300/300 - 53s - loss: 0.3024 - accuracy: 0.8810 - val_loss: 0.5658 - val_accuracy: 0.8329 - lr: 6.2500e-05 - 53s/epoch - 178ms/step\n",
            "Epoch 47/60\n",
            "300/300 - 54s - loss: 0.2887 - accuracy: 0.8880 - val_loss: 0.6113 - val_accuracy: 0.8192 - lr: 6.2500e-05 - 54s/epoch - 180ms/step\n",
            "Epoch 48/60\n",
            "300/300 - 54s - loss: 0.2814 - accuracy: 0.8896 - val_loss: 0.5962 - val_accuracy: 0.8180 - lr: 3.1250e-05 - 54s/epoch - 179ms/step\n",
            "Epoch 49/60\n",
            "300/300 - 55s - loss: 0.2798 - accuracy: 0.8926 - val_loss: 0.5939 - val_accuracy: 0.8404 - lr: 3.1250e-05 - 55s/epoch - 182ms/step\n",
            "Epoch 50/60\n",
            "300/300 - 54s - loss: 0.2816 - accuracy: 0.8906 - val_loss: 0.5850 - val_accuracy: 0.8317 - lr: 3.1250e-05 - 54s/epoch - 180ms/step\n",
            "Epoch 51/60\n",
            "300/300 - 54s - loss: 0.2662 - accuracy: 0.8962 - val_loss: 0.5932 - val_accuracy: 0.8267 - lr: 3.1250e-05 - 54s/epoch - 180ms/step\n",
            "Epoch 52/60\n",
            "300/300 - 54s - loss: 0.2679 - accuracy: 0.8992 - val_loss: 0.6168 - val_accuracy: 0.8342 - lr: 3.1250e-05 - 54s/epoch - 181ms/step\n",
            "Epoch 53/60\n",
            "300/300 - 55s - loss: 0.2646 - accuracy: 0.8949 - val_loss: 0.6330 - val_accuracy: 0.8254 - lr: 3.1250e-05 - 55s/epoch - 184ms/step\n",
            "Epoch 54/60\n",
            "300/300 - 54s - loss: 0.2702 - accuracy: 0.8940 - val_loss: 0.6015 - val_accuracy: 0.8317 - lr: 3.1250e-05 - 54s/epoch - 180ms/step\n",
            "Epoch 55/60\n",
            "300/300 - 54s - loss: 0.2556 - accuracy: 0.9036 - val_loss: 0.6044 - val_accuracy: 0.8279 - lr: 1.5625e-05 - 54s/epoch - 179ms/step\n",
            "Epoch 56/60\n",
            "300/300 - 54s - loss: 0.2608 - accuracy: 0.8997 - val_loss: 0.6236 - val_accuracy: 0.8317 - lr: 1.5625e-05 - 54s/epoch - 181ms/step\n",
            "Epoch 57/60\n",
            "300/300 - 54s - loss: 0.2500 - accuracy: 0.9038 - val_loss: 0.6224 - val_accuracy: 0.8354 - lr: 1.5625e-05 - 54s/epoch - 179ms/step\n",
            "Epoch 58/60\n",
            "300/300 - 55s - loss: 0.2499 - accuracy: 0.9027 - val_loss: 0.6269 - val_accuracy: 0.8242 - lr: 1.5625e-05 - 55s/epoch - 183ms/step\n",
            "Epoch 59/60\n",
            "300/300 - 54s - loss: 0.2585 - accuracy: 0.9018 - val_loss: 0.6498 - val_accuracy: 0.8180 - lr: 1.5625e-05 - 54s/epoch - 179ms/step\n",
            "Epoch 60/60\n",
            "300/300 - 55s - loss: 0.2497 - accuracy: 0.9044 - val_loss: 0.6343 - val_accuracy: 0.8254 - lr: 1.0000e-05 - 55s/epoch - 183ms/step\n",
            "ResNet50 Training: accuracy = 0.904300\n",
            "ResNet50 Validation: accuracy = 0.825436\n",
            "ResNet50 Test: accuracy = 0.815277\n"
          ]
        }
      ]
    },
    {
      "cell_type": "code",
      "source": [
        "ResNet50model.save('modelResNet50_v4.h5')"
      ],
      "metadata": {
        "id": "hGNzEHMw6dBx"
      },
      "execution_count": 27,
      "outputs": []
    },
    {
      "cell_type": "code",
      "source": [
        "model_resnet50=keras.models.load_model('modelResNet50_v4.h5')"
      ],
      "metadata": {
        "id": "gUV6UmCfFRGP"
      },
      "execution_count": 29,
      "outputs": []
    },
    {
      "cell_type": "code",
      "source": [
        "values_dict = lesion_type_dict.values()\n",
        "print(values_dict)\n",
        "\n",
        "values_list = list(values_dict)"
      ],
      "metadata": {
        "colab": {
          "base_uri": "https://localhost:8080/"
        },
        "id": "1M3tQ8Y_HMjU",
        "outputId": "30d47e3c-ccd9-4dfe-a55d-e133465c1c58"
      },
      "execution_count": 33,
      "outputs": [
        {
          "output_type": "stream",
          "name": "stdout",
          "text": [
            "dict_values(['Melanocytic nevae', 'Melanoma', 'Benign keratosis-like lesions ', 'Basal cell carcinoma', 'Actinic keratoses', 'Vascular lesions', 'Dermatofibroma'])\n"
          ]
        }
      ]
    },
    {
      "cell_type": "code",
      "source": [
        "for i in range(10):\n",
        "    plt.subplot(5, 2, i+1);\n",
        "    plt.imshow(x_test[500+i]);\n",
        "    plt.title(values_list[np.argmax(model_resnet50.predict(x_test[500+i].reshape(-1, 75, 100, 3)))]);\n",
        "    plt.axis('off');\n"
      ],
      "metadata": {
        "colab": {
          "base_uri": "https://localhost:8080/",
          "height": 446
        },
        "id": "FZuYjCJ6HADj",
        "outputId": "f67a0942-a95d-43c0-9cd5-fd367a71c135"
      },
      "execution_count": 35,
      "outputs": [
        {
          "output_type": "stream",
          "name": "stderr",
          "text": [
            "Clipping input data to the valid range for imshow with RGB data ([0..1] for floats or [0..255] for integers).\n",
            "Clipping input data to the valid range for imshow with RGB data ([0..1] for floats or [0..255] for integers).\n",
            "Clipping input data to the valid range for imshow with RGB data ([0..1] for floats or [0..255] for integers).\n",
            "Clipping input data to the valid range for imshow with RGB data ([0..1] for floats or [0..255] for integers).\n",
            "Clipping input data to the valid range for imshow with RGB data ([0..1] for floats or [0..255] for integers).\n",
            "Clipping input data to the valid range for imshow with RGB data ([0..1] for floats or [0..255] for integers).\n",
            "Clipping input data to the valid range for imshow with RGB data ([0..1] for floats or [0..255] for integers).\n",
            "Clipping input data to the valid range for imshow with RGB data ([0..1] for floats or [0..255] for integers).\n",
            "Clipping input data to the valid range for imshow with RGB data ([0..1] for floats or [0..255] for integers).\n",
            "Clipping input data to the valid range for imshow with RGB data ([0..1] for floats or [0..255] for integers).\n"
          ]
        },
        {
          "output_type": "display_data",
          "data": {
            "text/plain": [
              "<Figure size 432x288 with 10 Axes>"
            ],
            "image/png": "[encoded data removed]"
          },
          "metadata": {
            "needs_background": "light"
          }
        }
      ]
    },
    {
      "cell_type": "code",
      "source": [
        "acc = 0\n",
        "for i in range(1000):\n",
        "  if values_list[np.argmax(y_test[500+i])] == values_list[np.argmax(model_resnet50.predict(x_test[500+i].reshape(-1, 75, 100, 3)))]:\n",
        "    acc += 1\n",
        "print(acc/100)"
      ],
      "metadata": {
        "colab": {
          "base_uri": "https://localhost:8080/"
        },
        "id": "ky_x1WLMHozC",
        "outputId": "d5b57b03-c9df-4ba2-aa7e-8553fe3415c3"
      },
      "execution_count": 53,
      "outputs": [
        {
          "output_type": "stream",
          "name": "stdout",
          "text": [
            "8.09\n"
          ]
        }
      ]
    },
    {
      "cell_type": "code",
      "source": [
        "acc = 0\n",
        "for i in range(100):\n",
        "  if values_list[np.argmax(y_test[400+i])] == values_list[np.argmax(model_resnet50.predict(x_test[400+i].reshape(-1, 75, 100, 3)))]:\n",
        "    acc += 1\n",
        "print(acc/100)"
      ],
      "metadata": {
        "colab": {
          "base_uri": "https://localhost:8080/"
        },
        "id": "-_M8FUrHKk_v",
        "outputId": "959206b5-8c4b-40e9-95e3-3eb0315df412"
      },
      "execution_count": 50,
      "outputs": [
        {
          "output_type": "stream",
          "name": "stdout",
          "text": [
            "0.83\n"
          ]
        }
      ]
    },
    {
      "cell_type": "code",
      "source": [
        "acc = 0\n",
        "for i in range(100):\n",
        "  if values_list[np.argmax(y_test[300+i])] == values_list[np.argmax(model_resnet50.predict(x_test[300+i].reshape(-1, 75, 100, 3)))]:\n",
        "    acc += 1\n",
        "print(acc/100)"
      ],
      "metadata": {
        "colab": {
          "base_uri": "https://localhost:8080/"
        },
        "id": "yNMOG4t3Kr93",
        "outputId": "2c72d8fd-121b-4ab2-dfc8-0be564887461"
      },
      "execution_count": 51,
      "outputs": [
        {
          "output_type": "stream",
          "name": "stdout",
          "text": [
            "0.77\n"
          ]
        }
      ]
    },
    {
      "cell_type": "code",
      "source": [
        "acc = 0\n",
        "for i in range(100):\n",
        "  if values_list[np.argmax(y_test[0+i])] == values_list[np.argmax(model_resnet50.predict(x_test[0+i].reshape(-1, 75, 100, 3)))]:\n",
        "    acc += 1\n",
        "print(acc/100)"
      ],
      "metadata": {
        "colab": {
          "base_uri": "https://localhost:8080/"
        },
        "id": "3JWJ3QQzKzKo",
        "outputId": "9de74299-5715-4b39-ee3b-90ac6d551293"
      },
      "execution_count": 52,
      "outputs": [
        {
          "output_type": "stream",
          "name": "stdout",
          "text": [
            "0.83\n"
          ]
        }
      ]
    },
    {
      "cell_type": "code",
      "source": [
        ""
      ],
      "metadata": {
        "id": "53Ae_A6IK5Ve"
      },
      "execution_count": null,
      "outputs": []
    },
    {
      "cell_type": "code",
      "source": [
        "plt.plot(history_resnet50.history['loss'])\n",
        "plt.plot(history_resnet50.history['val_loss'])\n",
        "plt.title('model loss')\n",
        "\n",
        "plt.ylabel('loss')\n",
        "plt.xlabel('epoch')\n",
        "\n",
        "plt.legend(['train', 'test'], loc = 'upper left')\n",
        "plt.show()"
      ],
      "metadata": {
        "colab": {
          "base_uri": "https://localhost:8080/",
          "height": 295
        },
        "id": "Nqz07lwgH6QL",
        "outputId": "09453f06-0d18-42b8-ed40-da74315e4ba9"
      },
      "execution_count": 47,
      "outputs": [
        {
          "output_type": "display_data",
          "data": {
            "text/plain": [
              "<Figure size 432x288 with 1 Axes>"
            ],
            "image/png": "[encoded data removed]"
          },
          "metadata": {
            "needs_background": "light"
          }
        }
      ]
    },
    {
      "cell_type": "code",
      "source": [
        "plt.plot(history_resnet50.history['accuracy'])\n",
        "plt.plot(history_resnet50.history['val_accuracy'])\n",
        "plt.title('model accuracy')\n",
        "\n",
        "plt.ylabel('accuracy')\n",
        "plt.xlabel('epoch')\n",
        "\n",
        "plt.legend(['train', 'test'], loc = 'upper left')\n",
        "plt.show()"
      ],
      "metadata": {
        "colab": {
          "base_uri": "https://localhost:8080/",
          "height": 295
        },
        "id": "ySb89E14KT7q",
        "outputId": "ad7adea3-5b89-40dc-8ae9-4f4eeebb9ace"
      },
      "execution_count": 49,
      "outputs": [
        {
          "output_type": "display_data",
          "data": {
            "text/plain": [
              "<Figure size 432x288 with 1 Axes>"
            ],
            "image/png": "[encoded data removed]"
          },
          "metadata": {
            "needs_background": "light"
          }
        }
      ]
    }
  ]
}